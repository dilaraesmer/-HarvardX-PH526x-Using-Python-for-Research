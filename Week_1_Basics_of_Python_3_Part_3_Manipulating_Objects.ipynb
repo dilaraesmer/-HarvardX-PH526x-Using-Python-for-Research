{
  "nbformat": 4,
  "nbformat_minor": 0,
  "metadata": {
    "colab": {
      "provenance": [],
      "authorship_tag": "ABX9TyOLaUUGuyfKzHpBOew+Y4WX",
      "include_colab_link": true
    },
    "kernelspec": {
      "name": "python3",
      "display_name": "Python 3"
    },
    "language_info": {
      "name": "python"
    }
  },
  "cells": [
    {
      "cell_type": "markdown",
      "metadata": {
        "id": "view-in-github",
        "colab_type": "text"
      },
      "source": [
        "<a href=\"https://colab.research.google.com/github/dilaraesmer/HarvardX-PH526x-Using-Python-for-Research/blob/main/Week_1_Basics_of_Python_3_Part_3_Manipulating_Objects.ipynb\" target=\"_parent\"><img src=\"https://colab.research.google.com/assets/colab-badge.svg\" alt=\"Open In Colab\"/></a>"
      ]
    },
    {
      "cell_type": "markdown",
      "source": [
        "Dynamic Typing"
      ],
      "metadata": {
        "id": "JNX951LF0AaK"
      }
    },
    {
      "cell_type": "code",
      "execution_count": null,
      "metadata": {
        "id": "lpMhuB70y-mp"
      },
      "outputs": [],
      "source": [
        "L = [1,2,3]"
      ]
    },
    {
      "cell_type": "code",
      "source": [
        "M = [1,2,3]"
      ],
      "metadata": {
        "id": "7CgaNLhR2hIy"
      },
      "execution_count": null,
      "outputs": []
    },
    {
      "cell_type": "code",
      "source": [
        "L == M"
      ],
      "metadata": {
        "colab": {
          "base_uri": "https://localhost:8080/"
        },
        "id": "Txy_hz6k2lLI",
        "outputId": "884a6fd1-108b-460b-819f-bf1aa31dc16d"
      },
      "execution_count": null,
      "outputs": [
        {
          "output_type": "execute_result",
          "data": {
            "text/plain": [
              "True"
            ]
          },
          "metadata": {},
          "execution_count": 3
        }
      ]
    },
    {
      "cell_type": "code",
      "source": [
        "L is M"
      ],
      "metadata": {
        "colab": {
          "base_uri": "https://localhost:8080/"
        },
        "id": "unpAJo-O2xGy",
        "outputId": "20d5b41f-e048-4a06-c48a-8a388c8acd41"
      },
      "execution_count": null,
      "outputs": [
        {
          "output_type": "execute_result",
          "data": {
            "text/plain": [
              "False"
            ]
          },
          "metadata": {},
          "execution_count": 4
        }
      ]
    },
    {
      "cell_type": "code",
      "source": [
        "id(L)"
      ],
      "metadata": {
        "colab": {
          "base_uri": "https://localhost:8080/"
        },
        "id": "Y1BlK3ch2yt9",
        "outputId": "a9b4c0a1-8560-4bf4-dc51-16139fb73599"
      },
      "execution_count": null,
      "outputs": [
        {
          "output_type": "execute_result",
          "data": {
            "text/plain": [
              "140232028274880"
            ]
          },
          "metadata": {},
          "execution_count": 5
        }
      ]
    },
    {
      "cell_type": "code",
      "source": [
        "id(M)"
      ],
      "metadata": {
        "colab": {
          "base_uri": "https://localhost:8080/"
        },
        "id": "Ua7Zds2h27EL",
        "outputId": "e249d40e-fc02-4a0c-a04f-87b7a002b982"
      },
      "execution_count": null,
      "outputs": [
        {
          "output_type": "execute_result",
          "data": {
            "text/plain": [
              "140232028275328"
            ]
          },
          "metadata": {},
          "execution_count": 6
        }
      ]
    },
    {
      "cell_type": "code",
      "source": [
        "id(L) == id(M)"
      ],
      "metadata": {
        "colab": {
          "base_uri": "https://localhost:8080/"
        },
        "id": "BRRaxt_H2_i8",
        "outputId": "b99f047c-b385-4b81-8d3d-9c94cba3864f"
      },
      "execution_count": null,
      "outputs": [
        {
          "output_type": "execute_result",
          "data": {
            "text/plain": [
              "False"
            ]
          },
          "metadata": {},
          "execution_count": 7
        }
      ]
    },
    {
      "cell_type": "code",
      "source": [
        "L = [1,2,3]"
      ],
      "metadata": {
        "id": "s2m6lD4T3NA8"
      },
      "execution_count": null,
      "outputs": []
    },
    {
      "cell_type": "code",
      "source": [
        "M = L"
      ],
      "metadata": {
        "id": "SEemgpyZ3hi0"
      },
      "execution_count": null,
      "outputs": []
    },
    {
      "cell_type": "code",
      "source": [
        "M = list(L)"
      ],
      "metadata": {
        "id": "43OhqnGK3jKs"
      },
      "execution_count": null,
      "outputs": []
    },
    {
      "cell_type": "code",
      "source": [
        "\n",
        "M == L"
      ],
      "metadata": {
        "colab": {
          "base_uri": "https://localhost:8080/"
        },
        "id": "g2KoqMPM3lZ0",
        "outputId": "73bfe245-c72f-484d-85f9-02c0fb08adb8"
      },
      "execution_count": null,
      "outputs": [
        {
          "output_type": "execute_result",
          "data": {
            "text/plain": [
              "True"
            ]
          },
          "metadata": {},
          "execution_count": 11
        }
      ]
    },
    {
      "cell_type": "code",
      "source": [
        "      x=3\n",
        "y=x\n",
        "y=y-1"
      ],
      "metadata": {
        "id": "gjH6mpZ0380U"
      },
      "execution_count": null,
      "outputs": []
    },
    {
      "cell_type": "code",
      "source": [
        "print(x)"
      ],
      "metadata": {
        "colab": {
          "base_uri": "https://localhost:8080/"
        },
        "id": "cY4vYXzI5STr",
        "outputId": "e97bfe1b-ff5a-45fd-c5d9-c7a7101859b1"
      },
      "execution_count": null,
      "outputs": [
        {
          "output_type": "stream",
          "name": "stdout",
          "text": [
            "3\n"
          ]
        }
      ]
    },
    {
      "cell_type": "code",
      "source": [
        "      L1 = [2,3,4]\n",
        "L2 = L1\n",
        "L2[0] = 24"
      ],
      "metadata": {
        "id": "1eMovj4P5cmB"
      },
      "execution_count": null,
      "outputs": []
    },
    {
      "cell_type": "code",
      "source": [
        "\n",
        "\n",
        "print(L1)"
      ],
      "metadata": {
        "colab": {
          "base_uri": "https://localhost:8080/"
        },
        "id": "pxg7wWQ65eFs",
        "outputId": "dc212aad-eedc-430c-bcdc-df854440b54f"
      },
      "execution_count": null,
      "outputs": [
        {
          "output_type": "stream",
          "name": "stdout",
          "text": [
            "[24, 3, 4]\n"
          ]
        }
      ]
    },
    {
      "cell_type": "code",
      "source": [
        "      L = [2,3,4]\n",
        "M1 = L\n",
        "M2 = L[:]\n",
        "M1 is M2"
      ],
      "metadata": {
        "colab": {
          "base_uri": "https://localhost:8080/"
        },
        "id": "M1p5ke0l5gsc",
        "outputId": "c31125e9-2a90-4e66-b422-aca44b6a8201"
      },
      "execution_count": null,
      "outputs": [
        {
          "output_type": "execute_result",
          "data": {
            "text/plain": [
              "False"
            ]
          },
          "metadata": {},
          "execution_count": 16
        }
      ]
    },
    {
      "cell_type": "markdown",
      "source": [
        "\n",
        "Copies"
      ],
      "metadata": {
        "id": "rTwTiYag56Yx"
      }
    },
    {
      "cell_type": "code",
      "source": [
        "import copy\n",
        "x = [1,[2]]\n",
        "y = copy.copy(x)\n",
        "z = copy.deepcopy(x)\n",
        "y is z"
      ],
      "metadata": {
        "colab": {
          "base_uri": "https://localhost:8080/"
        },
        "id": "k854Nakc5572",
        "outputId": "d03c3ab3-e1fd-4f94-b5af-23c7ba2bfcd1"
      },
      "execution_count": null,
      "outputs": [
        {
          "output_type": "execute_result",
          "data": {
            "text/plain": [
              "False"
            ]
          },
          "metadata": {},
          "execution_count": 17
        }
      ]
    },
    {
      "cell_type": "markdown",
      "source": [
        "Statements"
      ],
      "metadata": {
        "id": "fs_xhR-D84Xf"
      }
    },
    {
      "cell_type": "code",
      "source": [
        "if False:\n",
        "    print(\"False!\")\n",
        "elif True:\n",
        "    print(\"Now True!\")\n",
        "else:\n",
        "    print(\"Finally True!\")"
      ],
      "metadata": {
        "colab": {
          "base_uri": "https://localhost:8080/"
        },
        "id": "Vb0wf1Bo84LD",
        "outputId": "3e6a7646-7581-4229-f0ee-a299045d7ad7"
      },
      "execution_count": null,
      "outputs": [
        {
          "output_type": "stream",
          "name": "stdout",
          "text": [
            "Now True!\n"
          ]
        }
      ]
    },
    {
      "cell_type": "code",
      "source": [
        "# Assume that n is a previously defined integer.\n",
        "n = 4\n",
        "if n%2 == 0:\n",
        "    print(\"even\")\n",
        "else:\n",
        "    print(\"odd\")"
      ],
      "metadata": {
        "colab": {
          "base_uri": "https://localhost:8080/"
        },
        "id": "QAyD42xf-D1h",
        "outputId": "68c11609-4cb4-441c-dfaf-05fd9a83b617"
      },
      "execution_count": null,
      "outputs": [
        {
          "output_type": "stream",
          "name": "stdout",
          "text": [
            "even\n"
          ]
        }
      ]
    },
    {
      "cell_type": "markdown",
      "source": [
        "For and While Loops"
      ],
      "metadata": {
        "id": "x0G4v2Qp_Lkd"
      }
    },
    {
      "cell_type": "code",
      "source": [
        "for x in range(10):\n",
        "  print(x)"
      ],
      "metadata": {
        "colab": {
          "base_uri": "https://localhost:8080/"
        },
        "id": "Gonz2b5U-XHu",
        "outputId": "1f5888ba-287a-4d40-9fa1-a673e572ffb4"
      },
      "execution_count": null,
      "outputs": [
        {
          "output_type": "stream",
          "name": "stdout",
          "text": [
            "0\n",
            "1\n",
            "2\n",
            "3\n",
            "4\n",
            "5\n",
            "6\n",
            "7\n",
            "8\n",
            "9\n"
          ]
        }
      ]
    },
    {
      "cell_type": "code",
      "source": [
        "names = [\"Jim\", \"Tom\", \"Nick\", \"Pam\", \"Sam\", \"Tim\"]"
      ],
      "metadata": {
        "id": "668BEcX7BEnW"
      },
      "execution_count": null,
      "outputs": []
    },
    {
      "cell_type": "code",
      "source": [
        "names"
      ],
      "metadata": {
        "colab": {
          "base_uri": "https://localhost:8080/"
        },
        "id": "yBu_Q69CBZIl",
        "outputId": "8a52646f-6dd3-493c-8b40-08152461b444"
      },
      "execution_count": null,
      "outputs": [
        {
          "output_type": "execute_result",
          "data": {
            "text/plain": [
              "['Jim', 'Tom', 'Nick', 'Pam', 'Sam', 'Tim']"
            ]
          },
          "metadata": {},
          "execution_count": 22
        }
      ]
    },
    {
      "cell_type": "code",
      "source": [
        "for name in names:\n",
        "  print(name)"
      ],
      "metadata": {
        "colab": {
          "base_uri": "https://localhost:8080/"
        },
        "id": "R_eeFBh4Bag9",
        "outputId": "9068a3c8-6c04-4cf5-ccd5-51171a058c2a"
      },
      "execution_count": null,
      "outputs": [
        {
          "output_type": "stream",
          "name": "stdout",
          "text": [
            "Jim\n",
            "Tom\n",
            "Nick\n",
            "Pam\n",
            "Sam\n",
            "Tim\n"
          ]
        }
      ]
    },
    {
      "cell_type": "code",
      "source": [
        "for i in range(len(names)):\n",
        "  print(names[i])"
      ],
      "metadata": {
        "colab": {
          "base_uri": "https://localhost:8080/"
        },
        "id": "gYOrsfaWBgGm",
        "outputId": "0ad8cab5-0278-4118-f9fe-2a5de445a5b7"
      },
      "execution_count": null,
      "outputs": [
        {
          "output_type": "stream",
          "name": "stdout",
          "text": [
            "Jim\n",
            "Tom\n",
            "Nick\n",
            "Pam\n",
            "Sam\n",
            "Tim\n"
          ]
        }
      ]
    },
    {
      "cell_type": "code",
      "source": [
        "age = {}\n",
        "age = dict()\n",
        "age = {\"Dilara\": 16, \"Jim\": 38, \"Deniz\": 72, \"Ali\": 34 }"
      ],
      "metadata": {
        "id": "uAon01wWDENu"
      },
      "execution_count": null,
      "outputs": []
    },
    {
      "cell_type": "code",
      "source": [
        "age"
      ],
      "metadata": {
        "colab": {
          "base_uri": "https://localhost:8080/"
        },
        "id": "kndCb9ir8iAA",
        "outputId": "39291e3c-24c6-4b0c-c8a4-d35a8d9872b2"
      },
      "execution_count": null,
      "outputs": [
        {
          "output_type": "execute_result",
          "data": {
            "text/plain": [
              "{'Dilara': 16, 'Jim': 38, 'Deniz': 72, 'Ali': 34}"
            ]
          },
          "metadata": {},
          "execution_count": 26
        }
      ]
    },
    {
      "cell_type": "code",
      "source": [
        "age.keys()"
      ],
      "metadata": {
        "colab": {
          "base_uri": "https://localhost:8080/"
        },
        "id": "CXgFFCN68cla",
        "outputId": "dcda28f6-13fe-45df-d24b-72c7c6141eab"
      },
      "execution_count": null,
      "outputs": [
        {
          "output_type": "execute_result",
          "data": {
            "text/plain": [
              "dict_keys(['Dilara', 'Jim', 'Deniz', 'Ali'])"
            ]
          },
          "metadata": {},
          "execution_count": 27
        }
      ]
    },
    {
      "cell_type": "code",
      "source": [
        "age.values()"
      ],
      "metadata": {
        "colab": {
          "base_uri": "https://localhost:8080/"
        },
        "id": "ZReRpxjy8fNZ",
        "outputId": "7494acd5-1225-4a5f-9d69-f0b33aadbe82"
      },
      "execution_count": null,
      "outputs": [
        {
          "output_type": "execute_result",
          "data": {
            "text/plain": [
              "dict_values([16, 38, 72, 34])"
            ]
          },
          "metadata": {},
          "execution_count": 28
        }
      ]
    },
    {
      "cell_type": "code",
      "source": [
        "for name in age.keys():\n",
        "  print(name, age[name])"
      ],
      "metadata": {
        "colab": {
          "base_uri": "https://localhost:8080/"
        },
        "id": "exsHp8k99OMH",
        "outputId": "4d68447d-5838-407f-bd37-f6b26b5bf1aa"
      },
      "execution_count": null,
      "outputs": [
        {
          "output_type": "stream",
          "name": "stdout",
          "text": [
            "Dilara 16\n",
            "Jim 38\n",
            "Deniz 72\n",
            "Ali 34\n"
          ]
        }
      ]
    },
    {
      "cell_type": "code",
      "source": [
        "for name in sorted(age.keys()):\n",
        "  print(name, age[name])"
      ],
      "metadata": {
        "colab": {
          "base_uri": "https://localhost:8080/"
        },
        "id": "lAMsJdLWHgM4",
        "outputId": "3bfbcac1-7c63-498b-f9a4-57a00bf4a3de"
      },
      "execution_count": null,
      "outputs": [
        {
          "output_type": "stream",
          "name": "stdout",
          "text": [
            "Ali 34\n",
            "Deniz 72\n",
            "Dilara 16\n",
            "Jim 38\n"
          ]
        }
      ]
    },
    {
      "cell_type": "code",
      "source": [
        "for name in sorted(age.keys(), reverse = True):\n",
        "  print(name, age[name])"
      ],
      "metadata": {
        "colab": {
          "base_uri": "https://localhost:8080/"
        },
        "id": "c0OupLaoM7un",
        "outputId": "c0b337bb-4167-4d15-e7d3-9bd338ce4df0"
      },
      "execution_count": null,
      "outputs": [
        {
          "output_type": "stream",
          "name": "stdout",
          "text": [
            "Jim 38\n",
            "Dilara 16\n",
            "Deniz 72\n",
            "Ali 34\n"
          ]
        }
      ]
    },
    {
      "cell_type": "code",
      "source": [
        "is_prime = True\n",
        "for i in range(2,n):\n",
        "    if n%i == 0:\n",
        "        is_prime = False\n",
        "print(is_prime)"
      ],
      "metadata": {
        "colab": {
          "base_uri": "https://localhost:8080/"
        },
        "id": "6eX6vXOWNOPy",
        "outputId": "1c4607e4-a895-4b0f-938e-20483ed5542b"
      },
      "execution_count": null,
      "outputs": [
        {
          "output_type": "stream",
          "name": "stdout",
          "text": [
            "False\n"
          ]
        }
      ]
    },
    {
      "cell_type": "code",
      "source": [
        "n=100\n",
        "number_of_times = 0\n",
        "while n >= 1:\n",
        "    n //= 2\n",
        "    number_of_times += 1\n",
        "print(number_of_times)"
      ],
      "metadata": {
        "id": "uMjaX0lYQecm",
        "outputId": "1c0c9bfd-09c4-48b9-f8b9-808ec96d0958",
        "colab": {
          "base_uri": "https://localhost:8080/"
        }
      },
      "execution_count": null,
      "outputs": [
        {
          "output_type": "stream",
          "name": "stdout",
          "text": [
            "7\n"
          ]
        }
      ]
    },
    {
      "cell_type": "markdown",
      "source": [
        "List Comprehensions"
      ],
      "metadata": {
        "id": "bfsvtEwpmvSk"
      }
    },
    {
      "cell_type": "code",
      "source": [
        "numbers = range(10)"
      ],
      "metadata": {
        "id": "AW2pssD2mtjd"
      },
      "execution_count": null,
      "outputs": []
    },
    {
      "cell_type": "code",
      "source": [
        "squares = []"
      ],
      "metadata": {
        "id": "VLw6E3KFn81_"
      },
      "execution_count": null,
      "outputs": []
    },
    {
      "cell_type": "code",
      "source": [
        "for number in numbers:\n",
        "  square = number**2\n",
        "  squares.append(square)"
      ],
      "metadata": {
        "id": "ZSE9YzlowLhe"
      },
      "execution_count": null,
      "outputs": []
    },
    {
      "cell_type": "code",
      "source": [
        "squares"
      ],
      "metadata": {
        "colab": {
          "base_uri": "https://localhost:8080/"
        },
        "id": "ol0MKdWxykfN",
        "outputId": "25622804-81f8-43ba-f152-4e2e1e563bc7"
      },
      "execution_count": null,
      "outputs": [
        {
          "output_type": "execute_result",
          "data": {
            "text/plain": [
              "[0, 1, 4, 9, 16, 25, 36, 49, 64, 81]"
            ]
          },
          "metadata": {},
          "execution_count": 37
        }
      ]
    },
    {
      "cell_type": "code",
      "source": [
        "squares2 = [number**2 for number in numbers ]"
      ],
      "metadata": {
        "id": "QBjfuN6DylMc"
      },
      "execution_count": null,
      "outputs": []
    },
    {
      "cell_type": "code",
      "source": [
        "squares2"
      ],
      "metadata": {
        "colab": {
          "base_uri": "https://localhost:8080/"
        },
        "id": "EPJQB0_czXg8",
        "outputId": "f96db15e-bb97-4c6f-bdd1-2bfa4b914b2d"
      },
      "execution_count": null,
      "outputs": [
        {
          "output_type": "execute_result",
          "data": {
            "text/plain": [
              "[0, 1, 4, 9, 16, 25, 36, 49, 64, 81]"
            ]
          },
          "metadata": {},
          "execution_count": 39
        }
      ]
    },
    {
      "cell_type": "code",
      "source": [
        "sum([i**2 for i in range(3)])"
      ],
      "metadata": {
        "colab": {
          "base_uri": "https://localhost:8080/"
        },
        "id": "OvmXo7s_zfQr",
        "outputId": "67dddbb6-1481-4928-f062-76b9595829af"
      },
      "execution_count": null,
      "outputs": [
        {
          "output_type": "execute_result",
          "data": {
            "text/plain": [
              "5"
            ]
          },
          "metadata": {},
          "execution_count": 40
        }
      ]
    },
    {
      "cell_type": "markdown",
      "source": [
        "How can you use a list comprehension, including if and for, to sum the odd numbers from 0 through 9?"
      ],
      "metadata": {
        "id": "TNIuWA_b1oTo"
      }
    },
    {
      "cell_type": "code",
      "source": [
        "number_1 = sum([ x for x in range(9) if x % 2 == 1])\n",
        "number_1"
      ],
      "metadata": {
        "colab": {
          "base_uri": "https://localhost:8080/"
        },
        "id": "O3AL3BsI09Ib",
        "outputId": "3d4af0cf-c5fd-4a2f-ebdf-caa6f22d2e53"
      },
      "execution_count": null,
      "outputs": [
        {
          "output_type": "execute_result",
          "data": {
            "text/plain": [
              "16"
            ]
          },
          "metadata": {},
          "execution_count": 41
        }
      ]
    },
    {
      "cell_type": "markdown",
      "source": [
        "Reading and Writing Files"
      ],
      "metadata": {
        "id": "UZ4vhDjL2fGG"
      }
    },
    {
      "cell_type": "code",
      "source": [
        "filename = \"inputfile.txt\""
      ],
      "metadata": {
        "id": "XUJXq0Bl2Sua"
      },
      "execution_count": null,
      "outputs": []
    },
    {
      "cell_type": "code",
      "source": [
        "for line in open(filename):\n",
        "  print(line)"
      ],
      "metadata": {
        "colab": {
          "base_uri": "https://localhost:8080/"
        },
        "id": "1zR1R5y64V2D",
        "outputId": "0a6aaf75-d7c0-473a-ed2f-524c26afd60b"
      },
      "execution_count": null,
      "outputs": [
        {
          "output_type": "stream",
          "name": "stdout",
          "text": [
            "first line\n",
            "\n",
            "second line\n",
            "\n",
            "third line\n",
            "\n"
          ]
        }
      ]
    },
    {
      "cell_type": "code",
      "source": [
        "for line in open(filename):\n",
        "  line = line.strip()\n",
        "  print(line)"
      ],
      "metadata": {
        "colab": {
          "base_uri": "https://localhost:8080/"
        },
        "id": "RerGkaUS55mD",
        "outputId": "141d0226-f11e-4a03-df3e-8f32306fdfd0"
      },
      "execution_count": null,
      "outputs": [
        {
          "output_type": "stream",
          "name": "stdout",
          "text": [
            "first line\n",
            "second line\n",
            "third line\n"
          ]
        }
      ]
    },
    {
      "cell_type": "code",
      "source": [
        "for line in open(filename):\n",
        "  line = line.rstrip()\n",
        "  print(line)"
      ],
      "metadata": {
        "id": "XCTD3KaV6R2s",
        "colab": {
          "base_uri": "https://localhost:8080/"
        },
        "outputId": "ce9e7b54-fe51-4527-c176-08e9d215efc3"
      },
      "execution_count": null,
      "outputs": [
        {
          "output_type": "stream",
          "name": "stdout",
          "text": [
            "first line\n",
            "second line\n",
            "third line\n"
          ]
        }
      ]
    },
    {
      "cell_type": "code",
      "source": [
        "for line in open(filename):\n",
        "  line = line.rstrip().split(\" \")\n",
        "  print(line)"
      ],
      "metadata": {
        "colab": {
          "base_uri": "https://localhost:8080/"
        },
        "id": "XBjWEvSpF45x",
        "outputId": "c7b78bf3-e7e2-42c8-8de1-d831915845f2"
      },
      "execution_count": null,
      "outputs": [
        {
          "output_type": "stream",
          "name": "stdout",
          "text": [
            "['first', 'line']\n",
            "['second', 'line']\n",
            "['third', 'line']\n"
          ]
        }
      ]
    },
    {
      "cell_type": "code",
      "source": [
        "F = open(\"output.txt\", \"w\")"
      ],
      "metadata": {
        "id": "7qa7q16HG3CE"
      },
      "execution_count": 50,
      "outputs": []
    },
    {
      "cell_type": "code",
      "source": [
        "F.write(\"Python\\n\")"
      ],
      "metadata": {
        "colab": {
          "base_uri": "https://localhost:8080/"
        },
        "id": "LstsHfnRH8bG",
        "outputId": "6d1162f5-8dcd-4e5d-f290-9ac973706081"
      },
      "execution_count": 51,
      "outputs": [
        {
          "output_type": "execute_result",
          "data": {
            "text/plain": [
              "7"
            ]
          },
          "metadata": {},
          "execution_count": 51
        }
      ]
    },
    {
      "cell_type": "code",
      "source": [
        "F"
      ],
      "metadata": {
        "colab": {
          "base_uri": "https://localhost:8080/"
        },
        "id": "r3E7newCJCyc",
        "outputId": "20ceb4e9-a5c7-4a46-8dad-9bdb335fc1d0"
      },
      "execution_count": 52,
      "outputs": [
        {
          "output_type": "execute_result",
          "data": {
            "text/plain": [
              "<_io.TextIOWrapper name='output.txt' mode='w' encoding='UTF-8'>"
            ]
          },
          "metadata": {},
          "execution_count": 52
        }
      ]
    },
    {
      "cell_type": "code",
      "source": [
        "F.close()"
      ],
      "metadata": {
        "id": "iwqn4jtgJ0Bd"
      },
      "execution_count": 53,
      "outputs": []
    },
    {
      "cell_type": "code",
      "source": [
        "F = open(\"input.txt\", \"w\")\n",
        "F.write(\"Hello\\nWorld\")\n",
        "F.close()\n",
        "lines = []\n",
        "for line in open(\"input.txt\"):\n",
        "    lines.append(line.strip())\n",
        "print(lines)"
      ],
      "metadata": {
        "colab": {
          "base_uri": "https://localhost:8080/"
        },
        "id": "2b8vIGiIKa9k",
        "outputId": "56a2da75-ac15-4090-d6ce-b13168559bac"
      },
      "execution_count": 54,
      "outputs": [
        {
          "output_type": "stream",
          "name": "stdout",
          "text": [
            "['Hello', 'World']\n"
          ]
        }
      ]
    },
    {
      "cell_type": "markdown",
      "source": [
        " Introduction to Functions"
      ],
      "metadata": {
        "id": "1r2xTeGSLk45"
      }
    },
    {
      "cell_type": "code",
      "source": [
        "def add(a,b):\n",
        "  mysum = a + b\n",
        "  return mysum"
      ],
      "metadata": {
        "id": "_4a1_-6mLK2C"
      },
      "execution_count": 55,
      "outputs": []
    },
    {
      "cell_type": "code",
      "source": [
        "add(12,26)"
      ],
      "metadata": {
        "colab": {
          "base_uri": "https://localhost:8080/"
        },
        "id": "FEYcIUABMGZV",
        "outputId": "55950984-c4b9-499f-eaec-6f7665c28072"
      },
      "execution_count": 56,
      "outputs": [
        {
          "output_type": "execute_result",
          "data": {
            "text/plain": [
              "38"
            ]
          },
          "metadata": {},
          "execution_count": 56
        }
      ]
    },
    {
      "cell_type": "code",
      "source": [
        "def add_and_sub(a,b):\n",
        "  mysum = a + b\n",
        "  mydiff = a - b\n",
        "  return (mysum, mydiff)"
      ],
      "metadata": {
        "id": "L9WQUDj7MLR7"
      },
      "execution_count": 57,
      "outputs": []
    },
    {
      "cell_type": "code",
      "source": [
        "add_and_sub(12,26)"
      ],
      "metadata": {
        "colab": {
          "base_uri": "https://localhost:8080/"
        },
        "id": "7Y01V2U7M2QE",
        "outputId": "f007fb6d-6304-4c9f-d311-64edc502cd12"
      },
      "execution_count": 58,
      "outputs": [
        {
          "output_type": "execute_result",
          "data": {
            "text/plain": [
              "(38, -14)"
            ]
          },
          "metadata": {},
          "execution_count": 58
        }
      ]
    },
    {
      "cell_type": "code",
      "source": [
        "add"
      ],
      "metadata": {
        "colab": {
          "base_uri": "https://localhost:8080/"
        },
        "id": "D9s4z1CqNDWl",
        "outputId": "1fbf7c8b-966c-4940-e0de-ac4c6b4538ed"
      },
      "execution_count": 59,
      "outputs": [
        {
          "output_type": "execute_result",
          "data": {
            "text/plain": [
              "<function __main__.add(a, b)>"
            ]
          },
          "metadata": {},
          "execution_count": 59
        }
      ]
    },
    {
      "cell_type": "code",
      "source": [
        "newadd = add"
      ],
      "metadata": {
        "id": "aLoXbWJFNQ2b"
      },
      "execution_count": 60,
      "outputs": []
    },
    {
      "cell_type": "code",
      "source": [
        "add(9,6)"
      ],
      "metadata": {
        "colab": {
          "base_uri": "https://localhost:8080/"
        },
        "id": "1pS67cTyNcjZ",
        "outputId": "d5f5d220-0437-4556-ed29-dda908229db9"
      },
      "execution_count": 61,
      "outputs": [
        {
          "output_type": "execute_result",
          "data": {
            "text/plain": [
              "15"
            ]
          },
          "metadata": {},
          "execution_count": 61
        }
      ]
    },
    {
      "cell_type": "code",
      "source": [
        "newadd(9,6)"
      ],
      "metadata": {
        "colab": {
          "base_uri": "https://localhost:8080/"
        },
        "id": "GeJgV-luNfAr",
        "outputId": "ed9f1f96-dbd4-4ac4-a2f3-2439c2610358"
      },
      "execution_count": 63,
      "outputs": [
        {
          "output_type": "execute_result",
          "data": {
            "text/plain": [
              "15"
            ]
          },
          "metadata": {},
          "execution_count": 63
        }
      ]
    },
    {
      "cell_type": "code",
      "source": [
        "def modify(mylist):\n",
        "  mylist[0] *= 10"
      ],
      "metadata": {
        "id": "9Qw3xIUCNh1T"
      },
      "execution_count": 64,
      "outputs": []
    },
    {
      "cell_type": "code",
      "source": [
        "L = [1,3,5,7,9]"
      ],
      "metadata": {
        "id": "qWMep1e1OGXA"
      },
      "execution_count": 65,
      "outputs": []
    },
    {
      "cell_type": "code",
      "source": [
        "modify(L)"
      ],
      "metadata": {
        "id": "wgzYnzIHOKJj"
      },
      "execution_count": 66,
      "outputs": []
    },
    {
      "cell_type": "code",
      "source": [
        "L"
      ],
      "metadata": {
        "colab": {
          "base_uri": "https://localhost:8080/"
        },
        "id": "WREaM6WDOPwr",
        "outputId": "6d5d9755-49ee-4724-c709-500b3dd5fd77"
      },
      "execution_count": 67,
      "outputs": [
        {
          "output_type": "execute_result",
          "data": {
            "text/plain": [
              "[10, 3, 5, 7, 9]"
            ]
          },
          "metadata": {},
          "execution_count": 67
        }
      ]
    },
    {
      "cell_type": "code",
      "source": [
        "def modify(mylist):\n",
        "    mylist[0] *= 10\n",
        "    return(mylist)\n",
        "L = [1, 3, 5, 7, 9]\n",
        "M = modify(L)\n",
        "M is L"
      ],
      "metadata": {
        "colab": {
          "base_uri": "https://localhost:8080/"
        },
        "id": "khvxvr6qOSCC",
        "outputId": "1c233555-58c3-4449-a92a-1db612dc4256"
      },
      "execution_count": 68,
      "outputs": [
        {
          "output_type": "execute_result",
          "data": {
            "text/plain": [
              "True"
            ]
          },
          "metadata": {},
          "execution_count": 68
        }
      ]
    },
    {
      "cell_type": "markdown",
      "source": [
        "Writing Simple Functions"
      ],
      "metadata": {
        "id": "UEq3oBsqOzWe"
      }
    },
    {
      "cell_type": "code",
      "source": [],
      "metadata": {
        "id": "vpnW56BpO0Fc"
      },
      "execution_count": null,
      "outputs": []
    }
  ]
}