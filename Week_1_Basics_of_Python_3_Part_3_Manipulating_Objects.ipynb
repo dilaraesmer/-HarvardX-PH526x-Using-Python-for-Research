{
  "nbformat": 4,
  "nbformat_minor": 0,
  "metadata": {
    "colab": {
      "provenance": [],
      "authorship_tag": "ABX9TyO00g/aPZ2aK6dFnPqNYd2b",
      "include_colab_link": true
    },
    "kernelspec": {
      "name": "python3",
      "display_name": "Python 3"
    },
    "language_info": {
      "name": "python"
    }
  },
  "cells": [
    {
      "cell_type": "markdown",
      "metadata": {
        "id": "view-in-github",
        "colab_type": "text"
      },
      "source": [
        "<a href=\"https://colab.research.google.com/github/dilaraesmer/HarvardX-PH526x-Using-Python-for-Research/blob/main/Week_1_Basics_of_Python_3_Part_3_Manipulating_Objects.ipynb\" target=\"_parent\"><img src=\"https://colab.research.google.com/assets/colab-badge.svg\" alt=\"Open In Colab\"/></a>"
      ]
    },
    {
      "cell_type": "markdown",
      "source": [
        "Dynamic Typing"
      ],
      "metadata": {
        "id": "JNX951LF0AaK"
      }
    },
    {
      "cell_type": "code",
      "execution_count": null,
      "metadata": {
        "id": "lpMhuB70y-mp"
      },
      "outputs": [],
      "source": [
        "L = [1,2,3]"
      ]
    },
    {
      "cell_type": "code",
      "source": [
        "M = [1,2,3]"
      ],
      "metadata": {
        "id": "7CgaNLhR2hIy"
      },
      "execution_count": null,
      "outputs": []
    },
    {
      "cell_type": "code",
      "source": [
        "L == M"
      ],
      "metadata": {
        "colab": {
          "base_uri": "https://localhost:8080/"
        },
        "id": "Txy_hz6k2lLI",
        "outputId": "24c126f0-9f09-4c70-9c4c-4376585e2ffc"
      },
      "execution_count": null,
      "outputs": [
        {
          "output_type": "execute_result",
          "data": {
            "text/plain": [
              "True"
            ]
          },
          "metadata": {},
          "execution_count": 3
        }
      ]
    },
    {
      "cell_type": "code",
      "source": [
        "L is M"
      ],
      "metadata": {
        "colab": {
          "base_uri": "https://localhost:8080/"
        },
        "id": "unpAJo-O2xGy",
        "outputId": "d781c9eb-5b34-4c9f-b9db-ac737cd4d417"
      },
      "execution_count": null,
      "outputs": [
        {
          "output_type": "execute_result",
          "data": {
            "text/plain": [
              "False"
            ]
          },
          "metadata": {},
          "execution_count": 4
        }
      ]
    },
    {
      "cell_type": "code",
      "source": [
        "id(L)"
      ],
      "metadata": {
        "colab": {
          "base_uri": "https://localhost:8080/"
        },
        "id": "Y1BlK3ch2yt9",
        "outputId": "fe63634c-1b4c-4bf5-915b-63602b826d43"
      },
      "execution_count": null,
      "outputs": [
        {
          "output_type": "execute_result",
          "data": {
            "text/plain": [
              "140331843794368"
            ]
          },
          "metadata": {},
          "execution_count": 5
        }
      ]
    },
    {
      "cell_type": "code",
      "source": [
        "id(M)"
      ],
      "metadata": {
        "colab": {
          "base_uri": "https://localhost:8080/"
        },
        "id": "Ua7Zds2h27EL",
        "outputId": "e424308f-51ec-43bd-bffe-30cc27e8a169"
      },
      "execution_count": null,
      "outputs": [
        {
          "output_type": "execute_result",
          "data": {
            "text/plain": [
              "140331843794816"
            ]
          },
          "metadata": {},
          "execution_count": 6
        }
      ]
    },
    {
      "cell_type": "code",
      "source": [
        "id(L) == id(M)"
      ],
      "metadata": {
        "colab": {
          "base_uri": "https://localhost:8080/"
        },
        "id": "BRRaxt_H2_i8",
        "outputId": "2c3404b2-2e48-4aec-f369-4c22a072e77d"
      },
      "execution_count": null,
      "outputs": [
        {
          "output_type": "execute_result",
          "data": {
            "text/plain": [
              "False"
            ]
          },
          "metadata": {},
          "execution_count": 7
        }
      ]
    },
    {
      "cell_type": "code",
      "source": [
        "L = [1,2,3]"
      ],
      "metadata": {
        "id": "s2m6lD4T3NA8"
      },
      "execution_count": null,
      "outputs": []
    },
    {
      "cell_type": "code",
      "source": [
        "M = L"
      ],
      "metadata": {
        "id": "SEemgpyZ3hi0"
      },
      "execution_count": null,
      "outputs": []
    },
    {
      "cell_type": "code",
      "source": [
        "M = list(L)"
      ],
      "metadata": {
        "id": "43OhqnGK3jKs"
      },
      "execution_count": null,
      "outputs": []
    },
    {
      "cell_type": "code",
      "source": [
        "M == L"
      ],
      "metadata": {
        "colab": {
          "base_uri": "https://localhost:8080/"
        },
        "id": "g2KoqMPM3lZ0",
        "outputId": "8dba37d6-06a0-4666-ceff-2444e29148f4"
      },
      "execution_count": null,
      "outputs": [
        {
          "output_type": "execute_result",
          "data": {
            "text/plain": [
              "True"
            ]
          },
          "metadata": {},
          "execution_count": 11
        }
      ]
    },
    {
      "cell_type": "code",
      "source": [
        "      x=3\n",
        "y=x\n",
        "y=y-1"
      ],
      "metadata": {
        "id": "gjH6mpZ0380U"
      },
      "execution_count": null,
      "outputs": []
    },
    {
      "cell_type": "code",
      "source": [
        "print(x)"
      ],
      "metadata": {
        "colab": {
          "base_uri": "https://localhost:8080/"
        },
        "id": "cY4vYXzI5STr",
        "outputId": "58951431-5309-433d-8128-2c220f6a6a20"
      },
      "execution_count": null,
      "outputs": [
        {
          "output_type": "stream",
          "name": "stdout",
          "text": [
            "3\n"
          ]
        }
      ]
    },
    {
      "cell_type": "code",
      "source": [
        "      L1 = [2,3,4]\n",
        "L2 = L1\n",
        "L2[0] = 24"
      ],
      "metadata": {
        "id": "1eMovj4P5cmB"
      },
      "execution_count": null,
      "outputs": []
    },
    {
      "cell_type": "code",
      "source": [
        "print(L1)"
      ],
      "metadata": {
        "colab": {
          "base_uri": "https://localhost:8080/"
        },
        "id": "pxg7wWQ65eFs",
        "outputId": "f04bf0c7-8ffa-4414-90be-c7462b130846"
      },
      "execution_count": null,
      "outputs": [
        {
          "output_type": "stream",
          "name": "stdout",
          "text": [
            "[24, 3, 4]\n"
          ]
        }
      ]
    },
    {
      "cell_type": "code",
      "source": [
        "      L = [2,3,4]\n",
        "M1 = L\n",
        "M2 = L[:]\n",
        "M1 is M2"
      ],
      "metadata": {
        "colab": {
          "base_uri": "https://localhost:8080/"
        },
        "id": "M1p5ke0l5gsc",
        "outputId": "182a65d7-7967-4343-b626-4f5ee62f49af"
      },
      "execution_count": null,
      "outputs": [
        {
          "output_type": "execute_result",
          "data": {
            "text/plain": [
              "False"
            ]
          },
          "metadata": {},
          "execution_count": 16
        }
      ]
    },
    {
      "cell_type": "markdown",
      "source": [
        "Copies"
      ],
      "metadata": {
        "id": "rTwTiYag56Yx"
      }
    },
    {
      "cell_type": "code",
      "source": [
        "import copy\n",
        "x = [1,[2]]\n",
        "y = copy.copy(x)\n",
        "z = copy.deepcopy(x)\n",
        "y is z"
      ],
      "metadata": {
        "colab": {
          "base_uri": "https://localhost:8080/"
        },
        "id": "k854Nakc5572",
        "outputId": "6ab688e1-0c86-43df-972a-252e050a5371"
      },
      "execution_count": null,
      "outputs": [
        {
          "output_type": "execute_result",
          "data": {
            "text/plain": [
              "False"
            ]
          },
          "metadata": {},
          "execution_count": 17
        }
      ]
    },
    {
      "cell_type": "markdown",
      "source": [
        "Statements"
      ],
      "metadata": {
        "id": "fs_xhR-D84Xf"
      }
    },
    {
      "cell_type": "code",
      "source": [
        "if False:\n",
        "    print(\"False!\")\n",
        "elif True:\n",
        "    print(\"Now True!\")\n",
        "else:\n",
        "    print(\"Finally True!\")"
      ],
      "metadata": {
        "colab": {
          "base_uri": "https://localhost:8080/"
        },
        "id": "Vb0wf1Bo84LD",
        "outputId": "7170428c-4f7e-446a-cef2-b730c17349f1"
      },
      "execution_count": null,
      "outputs": [
        {
          "output_type": "stream",
          "name": "stdout",
          "text": [
            "Now True!\n"
          ]
        }
      ]
    },
    {
      "cell_type": "code",
      "source": [
        "# Assume that n is a previously defined integer.\n",
        "n = 4\n",
        "if n%2 == 0:\n",
        "    print(\"even\")\n",
        "else:\n",
        "    print(\"odd\")"
      ],
      "metadata": {
        "colab": {
          "base_uri": "https://localhost:8080/"
        },
        "id": "QAyD42xf-D1h",
        "outputId": "4228e213-7cc3-4949-b2e2-52e293a476bf"
      },
      "execution_count": null,
      "outputs": [
        {
          "output_type": "stream",
          "name": "stdout",
          "text": [
            "even\n"
          ]
        }
      ]
    },
    {
      "cell_type": "markdown",
      "source": [
        "For and While Loops"
      ],
      "metadata": {
        "id": "x0G4v2Qp_Lkd"
      }
    },
    {
      "cell_type": "code",
      "source": [
        "for x in range(10):\n",
        "  print(x)"
      ],
      "metadata": {
        "colab": {
          "base_uri": "https://localhost:8080/"
        },
        "id": "Gonz2b5U-XHu",
        "outputId": "dddac1a8-65b6-41bc-a26a-d58a09dd6a92"
      },
      "execution_count": null,
      "outputs": [
        {
          "output_type": "stream",
          "name": "stdout",
          "text": [
            "0\n",
            "1\n",
            "2\n",
            "3\n",
            "4\n",
            "5\n",
            "6\n",
            "7\n",
            "8\n",
            "9\n"
          ]
        }
      ]
    },
    {
      "cell_type": "code",
      "source": [
        "names = [\"Jim\", \"Tom\", \"Nick\", \"Pam\", \"Sam\", \"Tim\"]"
      ],
      "metadata": {
        "id": "668BEcX7BEnW"
      },
      "execution_count": null,
      "outputs": []
    },
    {
      "cell_type": "code",
      "source": [
        "names"
      ],
      "metadata": {
        "colab": {
          "base_uri": "https://localhost:8080/"
        },
        "id": "yBu_Q69CBZIl",
        "outputId": "68275ecf-f595-47ff-f1d0-2e9415ab6893"
      },
      "execution_count": null,
      "outputs": [
        {
          "output_type": "execute_result",
          "data": {
            "text/plain": [
              "['Jim', 'Tom', 'Nick', 'Pam', 'Sam', 'Tim']"
            ]
          },
          "metadata": {},
          "execution_count": 25
        }
      ]
    },
    {
      "cell_type": "code",
      "source": [
        "for name in names:\n",
        "  print(name)"
      ],
      "metadata": {
        "colab": {
          "base_uri": "https://localhost:8080/"
        },
        "id": "R_eeFBh4Bag9",
        "outputId": "e10cba18-e68a-4bc4-980d-802052125ad2"
      },
      "execution_count": null,
      "outputs": [
        {
          "output_type": "stream",
          "name": "stdout",
          "text": [
            "Jim\n",
            "Tom\n",
            "Nick\n",
            "Pam\n",
            "Sam\n",
            "Tim\n"
          ]
        }
      ]
    },
    {
      "cell_type": "code",
      "source": [
        "for i in range(len(names)):\n",
        "  print(names[i])"
      ],
      "metadata": {
        "colab": {
          "base_uri": "https://localhost:8080/"
        },
        "id": "gYOrsfaWBgGm",
        "outputId": "dfff58f1-d9b9-4e12-ac3e-1def7246e0af"
      },
      "execution_count": null,
      "outputs": [
        {
          "output_type": "stream",
          "name": "stdout",
          "text": [
            "Jim\n",
            "Tom\n",
            "Nick\n",
            "Pam\n",
            "Sam\n",
            "Tim\n"
          ]
        }
      ]
    },
    {
      "cell_type": "code",
      "source": [],
      "metadata": {
        "id": "uAon01wWDENu"
      },
      "execution_count": null,
      "outputs": []
    }
  ]
}