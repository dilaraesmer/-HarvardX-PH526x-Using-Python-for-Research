{
  "nbformat": 4,
  "nbformat_minor": 0,
  "metadata": {
    "colab": {
      "provenance": [],
      "authorship_tag": "ABX9TyMYYXWcsaJKdv0t9jR+pqD0",
      "include_colab_link": true
    },
    "kernelspec": {
      "name": "python3",
      "display_name": "Python 3"
    },
    "language_info": {
      "name": "python"
    }
  },
  "cells": [
    {
      "cell_type": "markdown",
      "metadata": {
        "id": "view-in-github",
        "colab_type": "text"
      },
      "source": [
        "<a href=\"https://colab.research.google.com/github/dilaraesmer/HarvardX-PH526x-Using-Python-for-Research/blob/main/Week_1_Basics_of_Python_3_Part_3_Manipulating_Objects.ipynb\" target=\"_parent\"><img src=\"https://colab.research.google.com/assets/colab-badge.svg\" alt=\"Open In Colab\"/></a>"
      ]
    },
    {
      "cell_type": "markdown",
      "source": [
        "Dynamic Typing"
      ],
      "metadata": {
        "id": "JNX951LF0AaK"
      }
    },
    {
      "cell_type": "code",
      "execution_count": 1,
      "metadata": {
        "id": "lpMhuB70y-mp"
      },
      "outputs": [],
      "source": [
        "L = [1,2,3]"
      ]
    },
    {
      "cell_type": "code",
      "source": [
        "M = [1,2,3]"
      ],
      "metadata": {
        "id": "7CgaNLhR2hIy"
      },
      "execution_count": 2,
      "outputs": []
    },
    {
      "cell_type": "code",
      "source": [
        "L == M"
      ],
      "metadata": {
        "colab": {
          "base_uri": "https://localhost:8080/"
        },
        "id": "Txy_hz6k2lLI",
        "outputId": "24c126f0-9f09-4c70-9c4c-4376585e2ffc"
      },
      "execution_count": 3,
      "outputs": [
        {
          "output_type": "execute_result",
          "data": {
            "text/plain": [
              "True"
            ]
          },
          "metadata": {},
          "execution_count": 3
        }
      ]
    },
    {
      "cell_type": "code",
      "source": [
        "L is M"
      ],
      "metadata": {
        "colab": {
          "base_uri": "https://localhost:8080/"
        },
        "id": "unpAJo-O2xGy",
        "outputId": "d781c9eb-5b34-4c9f-b9db-ac737cd4d417"
      },
      "execution_count": 4,
      "outputs": [
        {
          "output_type": "execute_result",
          "data": {
            "text/plain": [
              "False"
            ]
          },
          "metadata": {},
          "execution_count": 4
        }
      ]
    },
    {
      "cell_type": "code",
      "source": [],
      "metadata": {
        "id": "Y1BlK3ch2yt9"
      },
      "execution_count": null,
      "outputs": []
    }
  ]
}