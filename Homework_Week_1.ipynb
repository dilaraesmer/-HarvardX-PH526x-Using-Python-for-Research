{
  "nbformat": 4,
  "nbformat_minor": 0,
  "metadata": {
    "colab": {
      "provenance": [],
      "authorship_tag": "ABX9TyM1YGOl7UoUkFARMfsAt6BX",
      "include_colab_link": true
    },
    "kernelspec": {
      "name": "python3",
      "display_name": "Python 3"
    },
    "language_info": {
      "name": "python"
    }
  },
  "cells": [
    {
      "cell_type": "markdown",
      "metadata": {
        "id": "view-in-github",
        "colab_type": "text"
      },
      "source": [
        "<a href=\"https://colab.research.google.com/github/dilaraesmer/HarvardX-PH526x-Using-Python-for-Research/blob/main/Homework_Week_1.ipynb\" target=\"_parent\"><img src=\"https://colab.research.google.com/assets/colab-badge.svg\" alt=\"Open In Colab\"/></a>"
      ]
    },
    {
      "cell_type": "markdown",
      "source": [
        "A Python multiline comment consists of a group of text enclosed in a delimiter (\"\"\") at each end.\n",
        "\n",
        "https://www.scaler.com/topics/multiline-comment-in-python/"
      ],
      "metadata": {
        "id": "7STca5FcC0Ep"
      }
    },
    {
      "cell_type": "code",
      "execution_count": 11,
      "metadata": {
        "colab": {
          "base_uri": "https://localhost:8080/",
          "height": 53
        },
        "id": "fvSPyTZcBLky",
        "outputId": "e4086695-9dc0-4964-ccb5-8c0088fc164c"
      },
      "outputs": [
        {
          "output_type": "execute_result",
          "data": {
            "text/plain": [
              "'\\nImport the string library.\\nCreate a variable alphabet that consists of the lowercase and uppercase letters\\nin the English alphabet using the ascii_letters attribute of the string library.\\n \\n'"
            ],
            "application/vnd.google.colaboratory.intrinsic+json": {
              "type": "string"
            }
          },
          "metadata": {},
          "execution_count": 11
        }
      ],
      "source": [
        "\"\"\"\n",
        "Import the string library.\n",
        "Create a variable alphabet that consists of the lowercase and uppercase letters\n",
        "in the English alphabet using the ascii_letters attribute of the string library.\n",
        " \n",
        "\"\"\""
      ]
    },
    {
      "cell_type": "code",
      "source": [],
      "metadata": {
        "id": "qWzsifilCGmt"
      },
      "execution_count": null,
      "outputs": []
    }
  ]
}