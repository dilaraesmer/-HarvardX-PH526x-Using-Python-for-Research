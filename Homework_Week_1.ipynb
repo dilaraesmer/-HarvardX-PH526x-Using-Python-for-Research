{
  "nbformat": 4,
  "nbformat_minor": 0,
  "metadata": {
    "colab": {
      "provenance": [],
      "authorship_tag": "ABX9TyP4q9znf662ejOu9vS5hA4O",
      "include_colab_link": true
    },
    "kernelspec": {
      "name": "python3",
      "display_name": "Python 3"
    },
    "language_info": {
      "name": "python"
    }
  },
  "cells": [
    {
      "cell_type": "markdown",
      "metadata": {
        "id": "view-in-github",
        "colab_type": "text"
      },
      "source": [
        "<a href=\"https://colab.research.google.com/github/dilaraesmer/HarvardX-PH526x-Using-Python-for-Research/blob/main/Homework_Week_1.ipynb\" target=\"_parent\"><img src=\"https://colab.research.google.com/assets/colab-badge.svg\" alt=\"Open In Colab\"/></a>"
      ]
    },
    {
      "cell_type": "markdown",
      "source": [
        "A Python multiline comment consists of a group of text enclosed in a delimiter (\"\"\") at each end.\n",
        "\n",
        "https://www.scaler.com/topics/multiline-comment-in-python/"
      ],
      "metadata": {
        "id": "7STca5FcC0Ep"
      }
    },
    {
      "cell_type": "code",
      "execution_count": 11,
      "metadata": {
        "colab": {
          "base_uri": "https://localhost:8080/",
          "height": 53
        },
        "id": "fvSPyTZcBLky",
        "outputId": "e4086695-9dc0-4964-ccb5-8c0088fc164c"
      },
      "outputs": [
        {
          "output_type": "execute_result",
          "data": {
            "text/plain": [
              "'\\nImport the string library.\\nCreate a variable alphabet that consists of the lowercase and uppercase letters\\nin the English alphabet using the ascii_letters attribute of the string library.\\n \\n'"
            ],
            "application/vnd.google.colaboratory.intrinsic+json": {
              "type": "string"
            }
          },
          "metadata": {},
          "execution_count": 11
        }
      ],
      "source": [
        "\"\"\"\n",
        "Import the string library.\n",
        "Create a variable alphabet that consists of the lowercase and uppercase letters\n",
        "in the English alphabet using the ascii_letters attribute of the string library.\n",
        " \n",
        "\"\"\""
      ]
    },
    {
      "cell_type": "code",
      "source": [
        "import string\n",
        "\n",
        "alphabet = string.ascii_letters"
      ],
      "metadata": {
        "id": "qWzsifilCGmt"
      },
      "execution_count": 12,
      "outputs": []
    },
    {
      "cell_type": "code",
      "metadata": {
        "id": "Z1XPnsr9juAT",
        "colab": {
          "base_uri": "https://localhost:8080/"
        },
        "outputId": "ab3029b5-ce40-4124-c292-73ac595e3aa1"
      },
      "source": [
        "sentence = 'Jim quickly realized that the beautiful gowns are expensive'\n",
        "\n",
        "count_letters = {}\n",
        "\n",
        "import collections\n",
        "\n",
        "count_letters = dict(collections.Counter(sentence))\n",
        "count_letters"
      ],
      "execution_count": 20,
      "outputs": [
        {
          "output_type": "execute_result",
          "data": {
            "text/plain": [
              "{'J': 1,\n",
              " 'i': 5,\n",
              " 'm': 1,\n",
              " ' ': 8,\n",
              " 'q': 1,\n",
              " 'u': 3,\n",
              " 'c': 1,\n",
              " 'k': 1,\n",
              " 'l': 3,\n",
              " 'y': 1,\n",
              " 'r': 2,\n",
              " 'e': 8,\n",
              " 'a': 4,\n",
              " 'z': 1,\n",
              " 'd': 1,\n",
              " 't': 4,\n",
              " 'h': 2,\n",
              " 'b': 1,\n",
              " 'f': 1,\n",
              " 'g': 1,\n",
              " 'o': 1,\n",
              " 'w': 1,\n",
              " 'n': 2,\n",
              " 's': 2,\n",
              " 'x': 1,\n",
              " 'p': 1,\n",
              " 'v': 1}"
            ]
          },
          "metadata": {},
          "execution_count": 20
        }
      ]
    },
    {
      "cell_type": "code",
      "source": [
        "def counter (input_string):\n",
        "    count_letters = {}\n",
        "    for letter in input_string:\n",
        "        if letter in count_letters:\n",
        "                count_letters[letter] += 1\n",
        "        else:\n",
        "            count_letters[letter] = 1\n",
        "    return count_letters"
      ],
      "metadata": {
        "id": "dmKbDrl-YiNT"
      },
      "execution_count": 21,
      "outputs": []
    },
    {
      "cell_type": "code",
      "source": [
        "print(counter(sentence))"
      ],
      "metadata": {
        "colab": {
          "base_uri": "https://localhost:8080/"
        },
        "id": "UD7yT4lVY1_F",
        "outputId": "a9f8c691-cc14-4af3-9a9e-1c8f9935f89a"
      },
      "execution_count": 22,
      "outputs": [
        {
          "output_type": "stream",
          "name": "stdout",
          "text": [
            "{'J': 1, 'i': 5, 'm': 1, ' ': 8, 'q': 1, 'u': 3, 'c': 1, 'k': 1, 'l': 3, 'y': 1, 'r': 2, 'e': 8, 'a': 4, 'z': 1, 'd': 1, 't': 4, 'h': 2, 'b': 1, 'f': 1, 'g': 1, 'o': 1, 'w': 1, 'n': 2, 's': 2, 'x': 1, 'p': 1, 'v': 1}\n"
          ]
        }
      ]
    },
    {
      "cell_type": "code",
      "source": [
        "address = \"\"\"Four score and seven years ago our fathers brought forth on this continent, a new nation, conceived in Liberty, and dedicated to the proposition that all men are created equal. Now we are engaged in a great civil war, testing whether that nation, or any nation so conceived and so dedicated, can long endure. We are met on a great battle-field of that war. We have come to dedicate a portion of that field, as a final resting place for those who here gave their lives that that nation might live. It is altogether fitting and proper that we should do this. But, in a larger sense, we can not dedicate -- we can not consecrate -- we can not hallow -- this ground. The brave men, living and dead, who struggled here, have consecrated it, far above our poor power to add or detract. The world will little note, nor long remember what we say here, but it can never forget what they did here. It is for us the living, rather, to be dedicated here to the unfinished work which they who fought here have thus far so nobly advanced. It is rather for us to be here dedicated to the great task remaining before us -- that from these honored dead we take increased devotion to that cause for which they gave the last full measure of devotion -- that we here highly resolve that these dead shall not have died in vain -- that this nation, under God, shall have a new birth of freedom -- and that government of the people, by the people, for the people, shall not perish from the earth.\"\"\""
      ],
      "metadata": {
        "id": "afLnmOU4Y6D_"
      },
      "execution_count": 23,
      "outputs": []
    },
    {
      "cell_type": "code",
      "source": [
        "address = 'Four score and seven years ago our fathers brought forth on this continent, a new nation, conceived in Liberty, and dedicated to the proposition that all men are created equal. Now we are engaged in a great civil war, testing whether that nation, or any nation so conceived and so dedicated, can long endure. We are met on a great battle-field of that war. We have come to dedicate a portion of that field, as a final resting place for those who here gave their lives that that nation might live. It is altogether fitting and proper that we should do this. But, in a larger sense, we can not dedicate -- we can not consecrate -- we can not hallow -- this ground. The brave men, living and dead, who struggled here, have consecrated it, far above our poor power to add or detract. The world will little note, nor long remember what we say here, but it can never forget what they did here. It is for us the living, rather, to be dedicated here to the unfinished work which they who fought here have thus far so nobly advanced. It is rather for us to be here dedicated to the great task remaining before us -- that from these honored dead we take increased devotion to that cause for which they gave the last full measure of devotion -- that we here highly resolve that these dead shall not have died in vain -- that this nation, under God, shall have a new birth of freedom -- and that government of the people, by the people, for the people, shall not perish from the earth.'\n",
        "\n",
        "address_count = counter(address)"
      ],
      "metadata": {
        "id": "6uPHuHo8ZNQi"
      },
      "execution_count": 26,
      "outputs": []
    },
    {
      "cell_type": "code",
      "source": [
        "print(address_count)"
      ],
      "metadata": {
        "colab": {
          "base_uri": "https://localhost:8080/"
        },
        "id": "ptqMj3xiZn63",
        "outputId": "662f1b99-52f6-409b-b76e-9e41367e36e5"
      },
      "execution_count": 27,
      "outputs": [
        {
          "output_type": "stream",
          "name": "stdout",
          "text": [
            "{'F': 1, 'o': 93, 'u': 21, 'r': 79, ' ': 277, 's': 44, 'c': 31, 'e': 165, 'a': 102, 'n': 76, 'd': 58, 'v': 24, 'y': 10, 'g': 27, 'f': 26, 't': 124, 'h': 80, 'b': 13, 'i': 65, ',': 22, 'w': 26, 'L': 1, 'p': 15, 'l': 41, 'm': 13, 'q': 1, '.': 10, 'N': 1, 'W': 2, '-': 15, 'I': 3, 'B': 1, 'T': 2, 'k': 3, 'G': 1}\n"
          ]
        }
      ]
    },
    {
      "cell_type": "code",
      "source": [],
      "metadata": {
        "id": "A4WzBw5sZuly"
      },
      "execution_count": null,
      "outputs": []
    }
  ]
}